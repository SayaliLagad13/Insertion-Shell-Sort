{
 "cells": [
  {
   "cell_type": "code",
   "execution_count": 1,
   "id": "8f14ec84",
   "metadata": {},
   "outputs": [
    {
     "name": "stdout",
     "output_type": "stream",
     "text": [
      "Enter the Number of Students: 4\n",
      "Enter the % of students: 22\n",
      "Enter the % of students: 34\n",
      "Enter the % of students: 56\n",
      "Enter the % of students: 78\n",
      "Entered Percentage of Students are:  [22.0, 34.0, 56.0, 78.0]\n",
      "****MENU***\n",
      "1.Insertion Sort\n",
      "2.Shell Sort\n",
      "3.Exit\n",
      "Enter your choice: 1\n",
      "Sorted Scores after Insertion sort are: \n",
      "\n",
      "[22.0, 34.0, 56.0, 78.0]\n",
      "Top five scores are:  [78.0, 56.0, 34.0, 22.0]\n",
      "****MENU***\n",
      "1.Insertion Sort\n",
      "2.Shell Sort\n",
      "3.Exit\n",
      "Enter your choice: 2\n",
      "Sorted Scores after Shell sort are: \n",
      "\n",
      "[22.0, 34.0, 56.0, 78.0]\n",
      "Top five scores are:  [78.0, 56.0, 34.0, 22.0]\n",
      "****MENU***\n",
      "1.Insertion Sort\n",
      "2.Shell Sort\n",
      "3.Exit\n",
      "Enter your choice: 3\n"
     ]
    }
   ],
   "source": [
    "def InsertionSort(arr,n):\n",
    "    i=1\n",
    "    for i in range(n):\n",
    "        temp=arr[i]\n",
    "        j=i-1\n",
    "        while((j>=0) and (arr[j]>temp)):\n",
    "            arr[j+1]=arr[j]\n",
    "            j=j-1\n",
    "        arr[j+1]=temp \n",
    "    print(arr)\n",
    "    print(\"Top five scores are: \",arr[:-6:-1])\n",
    "def ShellSort(arr,n):\n",
    "    d=n//2\n",
    "    while d>0:\n",
    "        j=d\n",
    "        while j<n:\n",
    "            i=j-d\n",
    "            while i>=0:\n",
    "                if arr[i+d]>arr[i]:\n",
    "                    break\n",
    "                else:\n",
    "                    arr[i+d],arr[i]=arr[i],arr[i+d]\n",
    "                i=i-d\n",
    "            j+=1\n",
    "        d=d//2\n",
    "    print(arr)\n",
    "    print(\"Top five scores are: \",arr[:-6:-1])\n",
    "n=int(input(\"Enter the Number of Students: \"))\n",
    "arr=[]\n",
    "i=0\n",
    "for i in range(n):\n",
    "    item=float(input(\"Enter the % of students: \"))\n",
    "    arr.append(item)\n",
    "print(\"Entered Percentage of Students are: \",arr)\n",
    "while True:\n",
    "    print(\"****MENU***\")\n",
    "    print(\"1.Insertion Sort\")\n",
    "    print(\"2.Shell Sort\")\n",
    "    print(\"3.Exit\")\n",
    "    ch=int(input(\"Enter your choice: \"))\n",
    "    if ch==1:\n",
    "        print(\"Sorted Scores after Insertion sort are: \\n\")\n",
    "        InsertionSort(arr,n)\n",
    "    elif ch==2:\n",
    "        print(\"Sorted Scores after Shell sort are: \\n\")\n",
    "        ShellSort(arr,n)\n",
    "    elif ch==3:\n",
    "        break;\n"
   ]
  },
  {
   "cell_type": "code",
   "execution_count": null,
   "id": "efb56887",
   "metadata": {},
   "outputs": [],
   "source": []
  }
 ],
 "metadata": {
  "kernelspec": {
   "display_name": "Python 3 (ipykernel)",
   "language": "python",
   "name": "python3"
  },
  "language_info": {
   "codemirror_mode": {
    "name": "ipython",
    "version": 3
   },
   "file_extension": ".py",
   "mimetype": "text/x-python",
   "name": "python",
   "nbconvert_exporter": "python",
   "pygments_lexer": "ipython3",
   "version": "3.9.13"
  }
 },
 "nbformat": 4,
 "nbformat_minor": 5
}
